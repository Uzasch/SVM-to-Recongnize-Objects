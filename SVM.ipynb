{
  "cells": [
    {
      "cell_type": "markdown",
      "metadata": {
        "id": "view-in-github",
        "colab_type": "text"
      },
      "source": [
        "<a href=\"https://colab.research.google.com/github/Uzasch/SVM-to-Recongnize-Objects/blob/main/SVM.ipynb\" target=\"_parent\"><img src=\"https://colab.research.google.com/assets/colab-badge.svg\" alt=\"Open In Colab\"/></a>"
      ]
    },
    {
      "cell_type": "markdown",
      "metadata": {
        "id": "uBajLXYrWBlo"
      },
      "source": [
        "Importing all the required packages"
      ]
    },
    {
      "cell_type": "code",
      "execution_count": 1,
      "metadata": {
        "id": "VgPd1fjcOKlg"
      },
      "outputs": [],
      "source": [
        "import pandas as pd\n",
        "from sklearn import svm\n",
        "from sklearn.model_selection import GridSearchCV\n",
        "import os\n",
        "import matplotlib.pyplot as plt\n",
        "from skimage.transform import resize\n",
        "from skimage.io import imread\n",
        "import numpy as np\n",
        "from sklearn.model_selection import train_test_split\n",
        "from sklearn.metrics import classification_report,accuracy_score,confusion_matrix\n",
        "import pickle"
      ]
    },
    {
      "cell_type": "code",
      "execution_count": 2,
      "metadata": {
        "colab": {
          "base_uri": "https://localhost:8080/"
        },
        "id": "10ggjBh2kfLl",
        "outputId": "47fc420c-a285-4a26-ebda-79384da0c244"
      },
      "outputs": [
        {
          "output_type": "stream",
          "name": "stdout",
          "text": [
            "Mounted at /content/drive\n"
          ]
        }
      ],
      "source": [
        "from google.colab import drive\n",
        "drive.mount('/content/drive')"
      ]
    },
    {
      "cell_type": "code",
      "execution_count": 3,
      "metadata": {
        "colab": {
          "base_uri": "https://localhost:8080/"
        },
        "id": "ByiTNhiLBJMh",
        "outputId": "cf2f89d6-4d45-41dd-a523-63254288f257"
      },
      "outputs": [
        {
          "output_type": "stream",
          "name": "stdout",
          "text": [
            "Drive already mounted at /content/drive; to attempt to forcibly remount, call drive.mount(\"/content/drive\", force_remount=True).\n"
          ]
        }
      ],
      "source": [
        "from google.colab import drive\n",
        "drive.mount('/content/drive')"
      ]
    },
    {
      "cell_type": "markdown",
      "metadata": {
        "id": "i8zhtW8yz34D"
      },
      "source": [
        "**NOTE** : Please enter Category Names same as folder name"
      ]
    },
    {
      "cell_type": "code",
      "execution_count": 4,
      "metadata": {
        "colab": {
          "base_uri": "https://localhost:8080/"
        },
        "id": "umZtNj4CTllG",
        "outputId": "544f8bf2-3e90-46b1-a44a-f0ef145909fe"
      },
      "outputs": [
        {
          "name": "stdout",
          "output_type": "stream",
          "text": [
            "Type y to give categories or type n to go with classification of Cars,Ice Cream cone and Cricket ball\n",
            "n\n"
          ]
        }
      ],
      "source": [
        "Categories=['Cars','Ice cream cone','Ball']\n",
        "print(\"Type y to give categories or type n to go with classification of Cars,Ice Cream cone and Cricket ball\");\n",
        "\n",
        "while(True):\n",
        "  check=input()\n",
        "  if(check=='n' or check=='y'):\n",
        "    break\n",
        "  print(\"Please give a valid input (y/n)\")\n",
        "if(check=='y'):\n",
        "  print(\"Enter How Many types of Images do you want to classify\")\n",
        "  n=int(input())\n",
        "  Categories=[]\n",
        "  print(f'please enter {n} names')\n",
        "  for i in range(n):\n",
        "    name=input()\n",
        "    Categories.append(name)\n",
        "  print(f\"If not drive Please upload all the {n} category images in google collab with the same names as given in categories\")"
      ]
    },
    {
      "cell_type": "markdown",
      "metadata": {
        "id": "0wwiPscqYune"
      },
      "source": [
        "Loading all the images and creating a DataFrame\n",
        "\n",
        "If you have your images in your google drive, simply mount the google Drive and copy the path of the folder containing all the Category images and Change the datadir variable to that path"
      ]
    },
    {
      "cell_type": "code",
      "execution_count": null,
      "metadata": {
        "colab": {
          "base_uri": "https://localhost:8080/",
          "height": 592
        },
        "id": "XdGD-XpMYUjJ",
        "outputId": "77bde550-b304-4fba-be3f-75cd20e85a23"
      },
      "outputs": [
        {
          "output_type": "stream",
          "name": "stdout",
          "text": [
            "loading... category : Cars\n",
            "loaded category:Cars successfully\n",
            "loading... category : Ice cream cone\n",
            "loaded category:Ice cream cone successfully\n",
            "loading... category : Ball\n",
            "loaded category:Ball successfully\n"
          ]
        },
        {
          "output_type": "execute_result",
          "data": {
            "text/plain": [
              "           0         1         2         3         4         5         6  \\\n",
              "0   0.996078  0.996078  0.996078  0.996078  0.996078  0.996078  0.996078   \n",
              "1   0.717647  0.717647  0.717647  0.721569  0.721569  0.721569  0.723582   \n",
              "2   0.184641  0.170915  0.162092  0.263725  0.237255  0.174510  0.286275   \n",
              "3   0.260850  0.264771  0.276536  0.279477  0.271239  0.275556  0.114641   \n",
              "4   0.760784  0.690196  0.611765  0.752941  0.686275  0.607843  0.756863   \n",
              "..       ...       ...       ...       ...       ...       ...       ...   \n",
              "95  0.423294  0.595843  0.019608  0.427216  0.599765  0.023294  0.433033   \n",
              "96  0.988235  0.988235  0.980392  0.988235  0.988235  0.980392  0.988235   \n",
              "97  1.000000  1.000000  1.000000  1.000000  1.000000  1.000000  1.000000   \n",
              "98  1.000000  1.000000  1.000000  1.000000  1.000000  1.000000  1.000000   \n",
              "99  0.574510  0.658824  0.345098  0.574510  0.658824  0.343137  0.574510   \n",
              "\n",
              "           7         8         9  ...     67491     67492     67493     67494  \\\n",
              "0   0.996078  0.996078  0.996078  ...  0.996078  0.996078  0.996078  0.996078   \n",
              "1   0.723582  0.723582  0.725490  ...  0.338209  0.320562  0.308797  0.337255   \n",
              "2   0.243137  0.173203  0.286275  ...  0.592157  0.596078  0.603922  0.601961   \n",
              "3   0.102876  0.099374  0.062745  ...  0.537255  0.511438  0.505882  0.552941   \n",
              "4   0.690196  0.611765  0.749020  ...  0.427451  0.462745  0.450980  0.427451   \n",
              "..       ...       ...       ...  ...       ...       ...       ...       ...   \n",
              "95  0.605582  0.027216  0.436928  ...  0.339888  0.467404  0.038546  0.218814   \n",
              "96  0.988235  0.980392  0.988235  ...  0.988235  0.988235  0.980392  0.988235   \n",
              "97  1.000000  1.000000  1.000000  ...  1.000000  1.000000  1.000000  1.000000   \n",
              "98  1.000000  1.000000  1.000000  ...  1.000000  1.000000  1.000000  1.000000   \n",
              "99  0.658824  0.343137  0.574510  ...  0.534641  0.584967  0.285621  0.563725   \n",
              "\n",
              "       67495     67496     67497     67498     67499  Target  \n",
              "0   0.996078  0.996078  0.996078  0.996078  0.996078       0  \n",
              "1   0.317647  0.305882  0.335346  0.317647  0.305882       0  \n",
              "2   0.605882  0.615686  0.583660  0.587582  0.607190       0  \n",
              "3   0.533333  0.521569  0.533333  0.513725  0.507908       0  \n",
              "4   0.463503  0.458824  0.427451  0.466667  0.470588       0  \n",
              "..       ...       ...       ...       ...       ...     ...  \n",
              "95  0.360304  0.003425  0.192884  0.347916  0.003711       2  \n",
              "96  0.988235  0.980392  0.988235  0.988235  0.980392       2  \n",
              "97  1.000000  1.000000  1.000000  1.000000  1.000000       2  \n",
              "98  1.000000  1.000000  1.000000  1.000000  1.000000       2  \n",
              "99  0.603922  0.308824  0.576471  0.605882  0.313725       2  \n",
              "\n",
              "[100 rows x 67501 columns]"
            ],
            "text/html": [
              "\n",
              "  <div id=\"df-30099533-4cbe-49f6-b54a-7ee609ba3aca\">\n",
              "    <div class=\"colab-df-container\">\n",
              "      <div>\n",
              "<style scoped>\n",
              "    .dataframe tbody tr th:only-of-type {\n",
              "        vertical-align: middle;\n",
              "    }\n",
              "\n",
              "    .dataframe tbody tr th {\n",
              "        vertical-align: top;\n",
              "    }\n",
              "\n",
              "    .dataframe thead th {\n",
              "        text-align: right;\n",
              "    }\n",
              "</style>\n",
              "<table border=\"1\" class=\"dataframe\">\n",
              "  <thead>\n",
              "    <tr style=\"text-align: right;\">\n",
              "      <th></th>\n",
              "      <th>0</th>\n",
              "      <th>1</th>\n",
              "      <th>2</th>\n",
              "      <th>3</th>\n",
              "      <th>4</th>\n",
              "      <th>5</th>\n",
              "      <th>6</th>\n",
              "      <th>7</th>\n",
              "      <th>8</th>\n",
              "      <th>9</th>\n",
              "      <th>...</th>\n",
              "      <th>67491</th>\n",
              "      <th>67492</th>\n",
              "      <th>67493</th>\n",
              "      <th>67494</th>\n",
              "      <th>67495</th>\n",
              "      <th>67496</th>\n",
              "      <th>67497</th>\n",
              "      <th>67498</th>\n",
              "      <th>67499</th>\n",
              "      <th>Target</th>\n",
              "    </tr>\n",
              "  </thead>\n",
              "  <tbody>\n",
              "    <tr>\n",
              "      <th>0</th>\n",
              "      <td>0.996078</td>\n",
              "      <td>0.996078</td>\n",
              "      <td>0.996078</td>\n",
              "      <td>0.996078</td>\n",
              "      <td>0.996078</td>\n",
              "      <td>0.996078</td>\n",
              "      <td>0.996078</td>\n",
              "      <td>0.996078</td>\n",
              "      <td>0.996078</td>\n",
              "      <td>0.996078</td>\n",
              "      <td>...</td>\n",
              "      <td>0.996078</td>\n",
              "      <td>0.996078</td>\n",
              "      <td>0.996078</td>\n",
              "      <td>0.996078</td>\n",
              "      <td>0.996078</td>\n",
              "      <td>0.996078</td>\n",
              "      <td>0.996078</td>\n",
              "      <td>0.996078</td>\n",
              "      <td>0.996078</td>\n",
              "      <td>0</td>\n",
              "    </tr>\n",
              "    <tr>\n",
              "      <th>1</th>\n",
              "      <td>0.717647</td>\n",
              "      <td>0.717647</td>\n",
              "      <td>0.717647</td>\n",
              "      <td>0.721569</td>\n",
              "      <td>0.721569</td>\n",
              "      <td>0.721569</td>\n",
              "      <td>0.723582</td>\n",
              "      <td>0.723582</td>\n",
              "      <td>0.723582</td>\n",
              "      <td>0.725490</td>\n",
              "      <td>...</td>\n",
              "      <td>0.338209</td>\n",
              "      <td>0.320562</td>\n",
              "      <td>0.308797</td>\n",
              "      <td>0.337255</td>\n",
              "      <td>0.317647</td>\n",
              "      <td>0.305882</td>\n",
              "      <td>0.335346</td>\n",
              "      <td>0.317647</td>\n",
              "      <td>0.305882</td>\n",
              "      <td>0</td>\n",
              "    </tr>\n",
              "    <tr>\n",
              "      <th>2</th>\n",
              "      <td>0.184641</td>\n",
              "      <td>0.170915</td>\n",
              "      <td>0.162092</td>\n",
              "      <td>0.263725</td>\n",
              "      <td>0.237255</td>\n",
              "      <td>0.174510</td>\n",
              "      <td>0.286275</td>\n",
              "      <td>0.243137</td>\n",
              "      <td>0.173203</td>\n",
              "      <td>0.286275</td>\n",
              "      <td>...</td>\n",
              "      <td>0.592157</td>\n",
              "      <td>0.596078</td>\n",
              "      <td>0.603922</td>\n",
              "      <td>0.601961</td>\n",
              "      <td>0.605882</td>\n",
              "      <td>0.615686</td>\n",
              "      <td>0.583660</td>\n",
              "      <td>0.587582</td>\n",
              "      <td>0.607190</td>\n",
              "      <td>0</td>\n",
              "    </tr>\n",
              "    <tr>\n",
              "      <th>3</th>\n",
              "      <td>0.260850</td>\n",
              "      <td>0.264771</td>\n",
              "      <td>0.276536</td>\n",
              "      <td>0.279477</td>\n",
              "      <td>0.271239</td>\n",
              "      <td>0.275556</td>\n",
              "      <td>0.114641</td>\n",
              "      <td>0.102876</td>\n",
              "      <td>0.099374</td>\n",
              "      <td>0.062745</td>\n",
              "      <td>...</td>\n",
              "      <td>0.537255</td>\n",
              "      <td>0.511438</td>\n",
              "      <td>0.505882</td>\n",
              "      <td>0.552941</td>\n",
              "      <td>0.533333</td>\n",
              "      <td>0.521569</td>\n",
              "      <td>0.533333</td>\n",
              "      <td>0.513725</td>\n",
              "      <td>0.507908</td>\n",
              "      <td>0</td>\n",
              "    </tr>\n",
              "    <tr>\n",
              "      <th>4</th>\n",
              "      <td>0.760784</td>\n",
              "      <td>0.690196</td>\n",
              "      <td>0.611765</td>\n",
              "      <td>0.752941</td>\n",
              "      <td>0.686275</td>\n",
              "      <td>0.607843</td>\n",
              "      <td>0.756863</td>\n",
              "      <td>0.690196</td>\n",
              "      <td>0.611765</td>\n",
              "      <td>0.749020</td>\n",
              "      <td>...</td>\n",
              "      <td>0.427451</td>\n",
              "      <td>0.462745</td>\n",
              "      <td>0.450980</td>\n",
              "      <td>0.427451</td>\n",
              "      <td>0.463503</td>\n",
              "      <td>0.458824</td>\n",
              "      <td>0.427451</td>\n",
              "      <td>0.466667</td>\n",
              "      <td>0.470588</td>\n",
              "      <td>0</td>\n",
              "    </tr>\n",
              "    <tr>\n",
              "      <th>...</th>\n",
              "      <td>...</td>\n",
              "      <td>...</td>\n",
              "      <td>...</td>\n",
              "      <td>...</td>\n",
              "      <td>...</td>\n",
              "      <td>...</td>\n",
              "      <td>...</td>\n",
              "      <td>...</td>\n",
              "      <td>...</td>\n",
              "      <td>...</td>\n",
              "      <td>...</td>\n",
              "      <td>...</td>\n",
              "      <td>...</td>\n",
              "      <td>...</td>\n",
              "      <td>...</td>\n",
              "      <td>...</td>\n",
              "      <td>...</td>\n",
              "      <td>...</td>\n",
              "      <td>...</td>\n",
              "      <td>...</td>\n",
              "      <td>...</td>\n",
              "    </tr>\n",
              "    <tr>\n",
              "      <th>95</th>\n",
              "      <td>0.423294</td>\n",
              "      <td>0.595843</td>\n",
              "      <td>0.019608</td>\n",
              "      <td>0.427216</td>\n",
              "      <td>0.599765</td>\n",
              "      <td>0.023294</td>\n",
              "      <td>0.433033</td>\n",
              "      <td>0.605582</td>\n",
              "      <td>0.027216</td>\n",
              "      <td>0.436928</td>\n",
              "      <td>...</td>\n",
              "      <td>0.339888</td>\n",
              "      <td>0.467404</td>\n",
              "      <td>0.038546</td>\n",
              "      <td>0.218814</td>\n",
              "      <td>0.360304</td>\n",
              "      <td>0.003425</td>\n",
              "      <td>0.192884</td>\n",
              "      <td>0.347916</td>\n",
              "      <td>0.003711</td>\n",
              "      <td>2</td>\n",
              "    </tr>\n",
              "    <tr>\n",
              "      <th>96</th>\n",
              "      <td>0.988235</td>\n",
              "      <td>0.988235</td>\n",
              "      <td>0.980392</td>\n",
              "      <td>0.988235</td>\n",
              "      <td>0.988235</td>\n",
              "      <td>0.980392</td>\n",
              "      <td>0.988235</td>\n",
              "      <td>0.988235</td>\n",
              "      <td>0.980392</td>\n",
              "      <td>0.988235</td>\n",
              "      <td>...</td>\n",
              "      <td>0.988235</td>\n",
              "      <td>0.988235</td>\n",
              "      <td>0.980392</td>\n",
              "      <td>0.988235</td>\n",
              "      <td>0.988235</td>\n",
              "      <td>0.980392</td>\n",
              "      <td>0.988235</td>\n",
              "      <td>0.988235</td>\n",
              "      <td>0.980392</td>\n",
              "      <td>2</td>\n",
              "    </tr>\n",
              "    <tr>\n",
              "      <th>97</th>\n",
              "      <td>1.000000</td>\n",
              "      <td>1.000000</td>\n",
              "      <td>1.000000</td>\n",
              "      <td>1.000000</td>\n",
              "      <td>1.000000</td>\n",
              "      <td>1.000000</td>\n",
              "      <td>1.000000</td>\n",
              "      <td>1.000000</td>\n",
              "      <td>1.000000</td>\n",
              "      <td>1.000000</td>\n",
              "      <td>...</td>\n",
              "      <td>1.000000</td>\n",
              "      <td>1.000000</td>\n",
              "      <td>1.000000</td>\n",
              "      <td>1.000000</td>\n",
              "      <td>1.000000</td>\n",
              "      <td>1.000000</td>\n",
              "      <td>1.000000</td>\n",
              "      <td>1.000000</td>\n",
              "      <td>1.000000</td>\n",
              "      <td>2</td>\n",
              "    </tr>\n",
              "    <tr>\n",
              "      <th>98</th>\n",
              "      <td>1.000000</td>\n",
              "      <td>1.000000</td>\n",
              "      <td>1.000000</td>\n",
              "      <td>1.000000</td>\n",
              "      <td>1.000000</td>\n",
              "      <td>1.000000</td>\n",
              "      <td>1.000000</td>\n",
              "      <td>1.000000</td>\n",
              "      <td>1.000000</td>\n",
              "      <td>1.000000</td>\n",
              "      <td>...</td>\n",
              "      <td>1.000000</td>\n",
              "      <td>1.000000</td>\n",
              "      <td>1.000000</td>\n",
              "      <td>1.000000</td>\n",
              "      <td>1.000000</td>\n",
              "      <td>1.000000</td>\n",
              "      <td>1.000000</td>\n",
              "      <td>1.000000</td>\n",
              "      <td>1.000000</td>\n",
              "      <td>2</td>\n",
              "    </tr>\n",
              "    <tr>\n",
              "      <th>99</th>\n",
              "      <td>0.574510</td>\n",
              "      <td>0.658824</td>\n",
              "      <td>0.345098</td>\n",
              "      <td>0.574510</td>\n",
              "      <td>0.658824</td>\n",
              "      <td>0.343137</td>\n",
              "      <td>0.574510</td>\n",
              "      <td>0.658824</td>\n",
              "      <td>0.343137</td>\n",
              "      <td>0.574510</td>\n",
              "      <td>...</td>\n",
              "      <td>0.534641</td>\n",
              "      <td>0.584967</td>\n",
              "      <td>0.285621</td>\n",
              "      <td>0.563725</td>\n",
              "      <td>0.603922</td>\n",
              "      <td>0.308824</td>\n",
              "      <td>0.576471</td>\n",
              "      <td>0.605882</td>\n",
              "      <td>0.313725</td>\n",
              "      <td>2</td>\n",
              "    </tr>\n",
              "  </tbody>\n",
              "</table>\n",
              "<p>100 rows × 67501 columns</p>\n",
              "</div>\n",
              "      <button class=\"colab-df-convert\" onclick=\"convertToInteractive('df-30099533-4cbe-49f6-b54a-7ee609ba3aca')\"\n",
              "              title=\"Convert this dataframe to an interactive table.\"\n",
              "              style=\"display:none;\">\n",
              "        \n",
              "  <svg xmlns=\"http://www.w3.org/2000/svg\" height=\"24px\"viewBox=\"0 0 24 24\"\n",
              "       width=\"24px\">\n",
              "    <path d=\"M0 0h24v24H0V0z\" fill=\"none\"/>\n",
              "    <path d=\"M18.56 5.44l.94 2.06.94-2.06 2.06-.94-2.06-.94-.94-2.06-.94 2.06-2.06.94zm-11 1L8.5 8.5l.94-2.06 2.06-.94-2.06-.94L8.5 2.5l-.94 2.06-2.06.94zm10 10l.94 2.06.94-2.06 2.06-.94-2.06-.94-.94-2.06-.94 2.06-2.06.94z\"/><path d=\"M17.41 7.96l-1.37-1.37c-.4-.4-.92-.59-1.43-.59-.52 0-1.04.2-1.43.59L10.3 9.45l-7.72 7.72c-.78.78-.78 2.05 0 2.83L4 21.41c.39.39.9.59 1.41.59.51 0 1.02-.2 1.41-.59l7.78-7.78 2.81-2.81c.8-.78.8-2.07 0-2.86zM5.41 20L4 18.59l7.72-7.72 1.47 1.35L5.41 20z\"/>\n",
              "  </svg>\n",
              "      </button>\n",
              "      \n",
              "  <style>\n",
              "    .colab-df-container {\n",
              "      display:flex;\n",
              "      flex-wrap:wrap;\n",
              "      gap: 12px;\n",
              "    }\n",
              "\n",
              "    .colab-df-convert {\n",
              "      background-color: #E8F0FE;\n",
              "      border: none;\n",
              "      border-radius: 50%;\n",
              "      cursor: pointer;\n",
              "      display: none;\n",
              "      fill: #1967D2;\n",
              "      height: 32px;\n",
              "      padding: 0 0 0 0;\n",
              "      width: 32px;\n",
              "    }\n",
              "\n",
              "    .colab-df-convert:hover {\n",
              "      background-color: #E2EBFA;\n",
              "      box-shadow: 0px 1px 2px rgba(60, 64, 67, 0.3), 0px 1px 3px 1px rgba(60, 64, 67, 0.15);\n",
              "      fill: #174EA6;\n",
              "    }\n",
              "\n",
              "    [theme=dark] .colab-df-convert {\n",
              "      background-color: #3B4455;\n",
              "      fill: #D2E3FC;\n",
              "    }\n",
              "\n",
              "    [theme=dark] .colab-df-convert:hover {\n",
              "      background-color: #434B5C;\n",
              "      box-shadow: 0px 1px 3px 1px rgba(0, 0, 0, 0.15);\n",
              "      filter: drop-shadow(0px 1px 2px rgba(0, 0, 0, 0.3));\n",
              "      fill: #FFFFFF;\n",
              "    }\n",
              "  </style>\n",
              "\n",
              "      <script>\n",
              "        const buttonEl =\n",
              "          document.querySelector('#df-30099533-4cbe-49f6-b54a-7ee609ba3aca button.colab-df-convert');\n",
              "        buttonEl.style.display =\n",
              "          google.colab.kernel.accessAllowed ? 'block' : 'none';\n",
              "\n",
              "        async function convertToInteractive(key) {\n",
              "          const element = document.querySelector('#df-30099533-4cbe-49f6-b54a-7ee609ba3aca');\n",
              "          const dataTable =\n",
              "            await google.colab.kernel.invokeFunction('convertToInteractive',\n",
              "                                                     [key], {});\n",
              "          if (!dataTable) return;\n",
              "\n",
              "          const docLinkHtml = 'Like what you see? Visit the ' +\n",
              "            '<a target=\"_blank\" href=https://colab.research.google.com/notebooks/data_table.ipynb>data table notebook</a>'\n",
              "            + ' to learn more about interactive tables.';\n",
              "          element.innerHTML = '';\n",
              "          dataTable['output_type'] = 'display_data';\n",
              "          await google.colab.output.renderOutput(dataTable, element);\n",
              "          const docLink = document.createElement('div');\n",
              "          docLink.innerHTML = docLinkHtml;\n",
              "          element.appendChild(docLink);\n",
              "        }\n",
              "      </script>\n",
              "    </div>\n",
              "  </div>\n",
              "  "
            ]
          },
          "metadata": {},
          "execution_count": 11
        }
      ],
      "source": [
        "flat_data_arr=[]\n",
        "target_arr=[]\n",
        "#please use datadir='/content' if the files are upload on to google collab\n",
        "#else mount the drive and give path of the parent-folder containing all category images folders.\n",
        "datadir='/content/drive/MyDrive/ML'\n",
        "for i in Categories:\n",
        "  print(f'loading... category : {i}')\n",
        "  path=os.path.join(datadir,i)\n",
        "  for img in os.listdir(path):\n",
        "    img_array=imread(os.path.join(path,img))\n",
        "    img_resized=resize(img_array,(150,150,3))\n",
        "    flat_data_arr.append(img_resized.flatten())\n",
        "    target_arr.append(Categories.index(i))\n",
        "  print(f'loaded category:{i} successfully')\n",
        "flat_data=np.array(flat_data_arr)\n",
        "target=np.array(target_arr)\n",
        "df=pd.DataFrame(flat_data)\n",
        "df['Target']=target\n",
        "df"
      ]
    },
    {
      "cell_type": "markdown",
      "metadata": {
        "id": "gUp5FDqIY070"
      },
      "source": [
        "Splitting the data into training and testing data"
      ]
    },
    {
      "cell_type": "code",
      "execution_count": null,
      "metadata": {
        "colab": {
          "base_uri": "https://localhost:8080/"
        },
        "id": "Jg3XHRP3OUyf",
        "outputId": "f0658273-e016-49ef-96c9-bb4827c38672"
      },
      "outputs": [
        {
          "output_type": "stream",
          "name": "stdout",
          "text": [
            "Splitted Successfully\n"
          ]
        }
      ],
      "source": [
        "x=df.iloc[:,:-1]\n",
        "y=df.iloc[:,-1]\n",
        "x_train,x_test,y_train,y_test=train_test_split(x,y,test_size=0.20,random_state=77,stratify=y)\n",
        "print('Splitted Successfully')"
      ]
    },
    {
      "cell_type": "markdown",
      "metadata": {
        "id": "YMmSZWDJY_eE"
      },
      "source": [
        "This Part of code may take a while for training the data using SVC model"
      ]
    },
    {
      "cell_type": "code",
      "execution_count": null,
      "metadata": {
        "colab": {
          "base_uri": "https://localhost:8080/"
        },
        "id": "DIaIT2GlOvy6",
        "outputId": "890bf4cf-984e-4d78-c0d3-ec29ea152181"
      },
      "outputs": [
        {
          "output_type": "stream",
          "name": "stdout",
          "text": [
            "The training of the model is started, please wait for while as it may take few minutes to complete\n",
            "The Model is trained well with the given images\n"
          ]
        },
        {
          "output_type": "execute_result",
          "data": {
            "text/plain": [
              "{'C': 10, 'gamma': 0.0001, 'kernel': 'rbf'}"
            ]
          },
          "metadata": {},
          "execution_count": 13
        }
      ],
      "source": [
        "param_grid={'C':[0.1,1,10,100],'gamma':[0.0001,0.001,0.1,1],'kernel':['rbf','poly']}\n",
        "svc=svm.SVC(probability=True)\n",
        "print(\"The training of the model is started, please wait for while as it may take few minutes to complete\")\n",
        "model=GridSearchCV(svc,param_grid)\n",
        "model.fit(x_train,y_train)\n",
        "print('The Model is trained well with the given images')\n",
        "model.best_params_"
      ]
    },
    {
      "cell_type": "markdown",
      "metadata": {
        "id": "VWKN2_4eZZmF"
      },
      "source": [
        "Predicting our testing data"
      ]
    },
    {
      "cell_type": "code",
      "execution_count": null,
      "metadata": {
        "colab": {
          "base_uri": "https://localhost:8080/"
        },
        "id": "h7qEbNLoSAcS",
        "outputId": "3d38375e-8f34-4c87-c437-2a5114d9117a"
      },
      "outputs": [
        {
          "output_type": "stream",
          "name": "stdout",
          "text": [
            "The predicted Data is :\n"
          ]
        },
        {
          "output_type": "execute_result",
          "data": {
            "text/plain": [
              "array([0, 0, 1, 2, 0, 1, 1, 2, 0, 1, 2, 2, 0, 1, 0, 0, 0, 2, 1, 1])"
            ]
          },
          "metadata": {},
          "execution_count": 14
        }
      ],
      "source": [
        "y_pred=model.predict(x_test)\n",
        "print(\"The predicted Data is :\")\n",
        "y_pred"
      ]
    },
    {
      "cell_type": "code",
      "execution_count": null,
      "metadata": {
        "colab": {
          "base_uri": "https://localhost:8080/"
        },
        "id": "A4rMJQ0HSCgU",
        "outputId": "11532567-afbe-41b8-e2c1-b87aedab66f1"
      },
      "outputs": [
        {
          "output_type": "stream",
          "name": "stdout",
          "text": [
            "The actual data is:\n"
          ]
        },
        {
          "output_type": "execute_result",
          "data": {
            "text/plain": [
              "array([0, 0, 2, 2, 0, 1, 1, 2, 0, 1, 2, 2, 0, 1, 2, 0, 0, 0, 1, 1])"
            ]
          },
          "metadata": {},
          "execution_count": 15
        }
      ],
      "source": [
        "print(\"The actual data is:\")\n",
        "np.array(y_test)"
      ]
    },
    {
      "cell_type": "code",
      "execution_count": null,
      "metadata": {
        "colab": {
          "base_uri": "https://localhost:8080/"
        },
        "id": "ZwXKKc5FSFMf",
        "outputId": "f938802f-d3fb-4519-c99c-592b30b9d755"
      },
      "outputs": [
        {
          "output_type": "stream",
          "name": "stdout",
          "text": [
            "The model is 85.0% accurate\n"
          ]
        }
      ],
      "source": [
        "#classification_report(y_pred,y_test)\n",
        "print(f\"The model is {accuracy_score(y_pred,y_test)*100}% accurate\")\n",
        "#confusion_matrix(y_pred,y_test)"
      ]
    },
    {
      "cell_type": "markdown",
      "metadata": {
        "id": "B8rpwj-yX4hl"
      },
      "source": [
        "Using Pickle to save the model to disk"
      ]
    },
    {
      "cell_type": "code",
      "execution_count": null,
      "metadata": {
        "colab": {
          "base_uri": "https://localhost:8080/"
        },
        "id": "Jf8xp5BYp_7E",
        "outputId": "75bf1dcf-dd50-48d2-bde7-ffc81f536cfd"
      },
      "outputs": [
        {
          "output_type": "stream",
          "name": "stdout",
          "text": [
            "Pickle is dumped successfully\n"
          ]
        }
      ],
      "source": [
        "pickle.dump(model,open('img_model.p','wb'))\n",
        "print(\"Pickle is dumped successfully\")"
      ]
    },
    {
      "cell_type": "markdown",
      "metadata": {
        "id": "D5j6KOPCZ8av"
      },
      "source": [
        "The Machine-Learning Based Model is Created Successfully. Now You can test for classification of any image which falls in the mentioned Categories\n",
        "\n",
        "Testing of model :"
      ]
    },
    {
      "cell_type": "code",
      "execution_count": null,
      "metadata": {
        "colab": {
          "base_uri": "https://localhost:8080/",
          "height": 374
        },
        "id": "6MVmsPLdS6-X",
        "outputId": "994260ac-1e48-46f9-fa9e-f4858aecbab1"
      },
      "outputs": [
        {
          "name": "stdout",
          "output_type": "stream",
          "text": [
            "Enter URL of Imagehttps://media.istockphoto.com/photos/cricket-balls-picture-id173577200?k=20&m=173577200&s=612x612&w=0&h=IKWrIK2PtkJguQLEQBFYE2ElQXCzOnWhmu0j-3Rczq0=\n"
          ]
        },
        {
          "output_type": "display_data",
          "data": {
            "text/plain": [
              "<Figure size 432x288 with 1 Axes>"
            ],
            "image/png": "[encoded data removed]"
          },
          "metadata": {
            "needs_background": "light"
          }
        },
        {
          "output_type": "stream",
          "name": "stdout",
          "text": [
            "Cars = 8.851709078073979%\n",
            "Ice cream cone = 3.6418511813007517%\n",
            "Ball = 87.50643974062528%\n",
            "The predicted image is : Ball\n",
            "Is the image a Ball ?(y/n)\n",
            "y\n",
            "Thank you for your feedback\n"
          ]
        }
      ],
      "source": [
        "#print(os.path.abspath(os.getcwd()))\n",
        "model=pickle.load(open('img_model.p','rb'))\n",
        "url=input('Enter URL of Image')\n",
        "img=imread(url)\n",
        "plt.imshow(img)\n",
        "plt.show()\n",
        "img_resize=resize(img,(150,150,3))\n",
        "l=[img_resize.flatten()]\n",
        "probability=model.predict_proba(l)\n",
        "for ind,val in enumerate(Categories):\n",
        "  print(f'{val} = {probability[0][ind]*100}%')\n",
        "print(\"The predicted image is : \"+Categories[model.predict(l)[0]])\n",
        "print(f'Is the image a {Categories[model.predict(l)[0]]} ?(y/n)')\n",
        "while(True):\n",
        "  b=input()\n",
        "  if(b==\"y\" or b==\"n\"):\n",
        "    break\n",
        "  print(\"please enter either y or n\")\n",
        "\n",
        "if(b=='n'):\n",
        "  print(\"What is the image?\")\n",
        "  for i in range(len(Categories)):\n",
        "    print(f\"Enter {i} for {Categories[i]}\")\n",
        "  k=int(input())\n",
        "  while(k<0 or k>=len(Categories)):\n",
        "    print(f\"Please enter a valid number between 0-{len(Categories)-1}\")\n",
        "    k=int(input())\n",
        "  print(\"Please wait for a while for the model to learn from this image :)\")\n",
        "  flat_arr=flat_data_arr.copy()\n",
        "  tar_arr=target_arr.copy()\n",
        "  tar_arr.append(k) \n",
        "  flat_arr.extend(l)\n",
        "  tar_arr=np.array(tar_arr)\n",
        "  flat_df=np.array(flat_arr)\n",
        "  df1=pd.DataFrame(flat_df)\n",
        "  df1['Target']=tar_arr\n",
        "  model1=GridSearchCV(svc,param_grid)\n",
        "  x1=df1.iloc[:,:-1]\n",
        "  y1=df1.iloc[:,-1]\n",
        "  x_train1,x_test1,y_train1,y_test1=train_test_split(x1,y1,test_size=0.20,random_state=77,stratify=y1)\n",
        "  d={}\n",
        "  for i in model.best_params_:\n",
        "    d[i]=[model.best_params_[i]]\n",
        "  model1=GridSearchCV(svc,d)\n",
        "  model1.fit(x_train1,y_train1)\n",
        "  y_pred1=model.predict(x_test1)\n",
        "  print(f\"The model is now {accuracy_score(y_pred1,y_test1)*100}% accurate\")\n",
        "  pickle.dump(model1,open('img_model.p','wb'))\n",
        "print(\"Thank you for your feedback\")"
      ]
    },
    {
      "cell_type": "markdown",
      "metadata": {
        "id": "fJ_t-zqIsTCA"
      },
      "source": [
        "This model learns from its mistake and rectifies them and does not repeat the same mistake again ;)"
      ]
    }
  ],
  "metadata": {
    "colab": {
      "collapsed_sections": [],
      "name": "SVM",
      "provenance": [],
      "include_colab_link": true
    },
    "kernelspec": {
      "display_name": "Python 3",
      "name": "python3"
    }
  },
  "nbformat": 4,
  "nbformat_minor": 0
}